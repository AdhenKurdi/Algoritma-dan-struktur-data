{
 "cells": [
  {
   "cell_type": "code",
   "execution_count": 5,
   "metadata": {},
   "outputs": [
    {
     "name": "stdout",
     "output_type": "stream",
     "text": [
      "Saya Adhen Kurdi, ingin membuat program menghitung balok\n",
      "1050\n"
     ]
    }
   ],
   "source": [
    "print ('Saya Adhen Kurdi, ingin membuat program menghitung balok')\n",
    "p = 15\n",
    "t = 7\n",
    "l = 10\n",
    "v= p*l*t\n",
    "print (v)"
   ]
  },
  {
   "cell_type": "code",
   "execution_count": 7,
   "metadata": {},
   "outputs": [
    {
     "name": "stdout",
     "output_type": "stream",
     "text": [
      "Saya Adhen Kurdi, ingin membuat program menghitung balok\n",
      "Sehingga menghitung balok 1050\n"
     ]
    }
   ],
   "source": [
    "print ('Saya Adhen Kurdi, ingin membuat program menghitung balok')\n",
    "p = 15\n",
    "t = 10\n",
    "l = 7\n",
    "v = p*l*t\n",
    "print (\"Sehingga menghitung balok\", v)"
   ]
  },
  {
   "cell_type": "code",
   "execution_count": 11,
   "metadata": {},
   "outputs": [
    {
     "name": "stdout",
     "output_type": "stream",
     "text": [
      "30\n",
      "3.14\n",
      "50\n",
      "Ini variable milik Saye Adhen Tamvan  adalah 50\n"
     ]
    }
   ],
   "source": [
    "Var=30\n",
    "Phi=3.14\n",
    "Var2=50\n",
    "Variabel_Saya=\"Ini variable milik Saye Adhen Tamvan\"\n",
    "print (Var)\n",
    "print (Phi) \n",
    "print (Var2)\n",
    "print (Variabel_Saya, \" adalah\", Var2 )"
   ]
  },
  {
   "cell_type": "code",
   "execution_count": 15,
   "metadata": {},
   "outputs": [
    {
     "name": "stdout",
     "output_type": "stream",
     "text": [
      "50\n",
      "3.14\n",
      "100\n",
      "Ini variabel milik Saye Adhen Tamvan  adalah  100\n"
     ]
    },
    {
     "ename": "NameError",
     "evalue": "name 'Var2' is not defined",
     "output_type": "error",
     "traceback": [
      "\u001b[1;31m---------------------------------------------------------------------------\u001b[0m",
      "\u001b[1;31mNameError\u001b[0m                                 Traceback (most recent call last)",
      "\u001b[1;32m<ipython-input-15-b53d79cc2b6f>\u001b[0m in \u001b[0;36m<module>\u001b[1;34m\u001b[0m\n\u001b[0;32m      8\u001b[0m \u001b[0mprint\u001b[0m \u001b[1;33m(\u001b[0m\u001b[0mVariabel_Saya\u001b[0m\u001b[1;33m,\u001b[0m \u001b[1;34m\" adalah \"\u001b[0m\u001b[1;33m,\u001b[0m \u001b[0mVar2\u001b[0m\u001b[1;33m)\u001b[0m\u001b[1;33m\u001b[0m\u001b[1;33m\u001b[0m\u001b[0m\n\u001b[0;32m      9\u001b[0m \u001b[1;32mdel\u001b[0m \u001b[1;33m(\u001b[0m\u001b[0mVar2\u001b[0m\u001b[1;33m)\u001b[0m\u001b[1;33m\u001b[0m\u001b[1;33m\u001b[0m\u001b[0m\n\u001b[1;32m---> 10\u001b[1;33m \u001b[0mprint\u001b[0m \u001b[1;33m(\u001b[0m\u001b[0mVar2\u001b[0m\u001b[1;33m)\u001b[0m\u001b[1;33m\u001b[0m\u001b[1;33m\u001b[0m\u001b[0m\n\u001b[0m",
      "\u001b[1;31mNameError\u001b[0m: name 'Var2' is not defined"
     ]
    }
   ],
   "source": [
    "Var=50\n",
    "Phi=3.14\n",
    "Var2=100\n",
    "Variabel_Saya= \"Ini variabel milik Saye Adhen Tamvan\"\n",
    "print (Var)\n",
    "print (Phi)\n",
    "print (Var2)\n",
    "print (Variabel_Saya, \" adalah \", Var2)\n",
    "del (Var2)\n",
    "print (Var2)"
   ]
  },
  {
   "cell_type": "code",
   "execution_count": 20,
   "metadata": {},
   "outputs": [
    {
     "data": {
      "text/plain": [
       "int"
      ]
     },
     "execution_count": 20,
     "metadata": {},
     "output_type": "execute_result"
    }
   ],
   "source": [
    "Variabel=50\n",
    "type(Variabel)"
   ]
  },
  {
   "cell_type": "code",
   "execution_count": 29,
   "metadata": {
    "scrolled": true
   },
   "outputs": [
    {
     "name": "stdout",
     "output_type": "stream",
     "text": [
      "saya tamvan\n"
     ]
    }
   ],
   "source": [
    "print (\"saya tamvan\")"
   ]
  },
  {
   "cell_type": "code",
   "execution_count": null,
   "metadata": {},
   "outputs": [],
   "source": []
  }
 ],
 "metadata": {
  "kernelspec": {
   "display_name": "Python 3",
   "language": "python",
   "name": "python3"
  },
  "language_info": {
   "codemirror_mode": {
    "name": "ipython",
    "version": 3
   },
   "file_extension": ".py",
   "mimetype": "text/x-python",
   "name": "python",
   "nbconvert_exporter": "python",
   "pygments_lexer": "ipython3",
   "version": "3.8.3"
  }
 },
 "nbformat": 4,
 "nbformat_minor": 4
}
